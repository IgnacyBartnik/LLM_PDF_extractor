{
 "cells": [
  {
   "cell_type": "markdown",
   "id": "0e33f453",
   "metadata": {},
   "source": [
    "# Debugging PDF Text Extraction and Data Extraction Pipeline\n",
    "\n",
    "This notebook will help you step through the PDF text extraction and OpenAI-based data extraction process to identify where extraction is failing."
   ]
  },
  {
   "cell_type": "code",
   "execution_count": 1,
   "id": "05dbbaee",
   "metadata": {},
   "outputs": [
    {
     "name": "stderr",
     "output_type": "stream",
     "text": [
      "/Users/ignacybartnik/Documents/LLM_PDF_extractor/venv/lib/python3.10/site-packages/pypdf/_crypt_providers/_cryptography.py:32: CryptographyDeprecationWarning: ARC4 has been moved to cryptography.hazmat.decrepit.ciphers.algorithms.ARC4 and will be removed from cryptography.hazmat.primitives.ciphers.algorithms in 48.0.0.\n",
      "  from cryptography.hazmat.primitives.ciphers.algorithms import AES, ARC4\n"
     ]
    }
   ],
   "source": [
    "# Import PDF text extractor and OpenAIService\n",
    "import sys\n",
    "import os\n",
    "sys.path.append(os.path.abspath('src'))\n",
    "\n",
    "from services.pdf_processor import PDFProcessor  # Adjust if your extractor class/module is named differently\n",
    "from services.openai_service import OpenAIService"
   ]
  },
  {
   "cell_type": "code",
   "execution_count": 2,
   "id": "fe08612e",
   "metadata": {},
   "outputs": [
    {
     "name": "stdout",
     "output_type": "stream",
     "text": [
      "PDF file found: Filled Forms AXA XL/FNOL-form-MOTOR-v10_filled.pdf\n"
     ]
    }
   ],
   "source": [
    "# Load and inspect a sample PDF file\n",
    "pdf_path = 'Filled Forms AXA XL/FNOL-form-MOTOR-v10_filled.pdf'  # Change to your test file if needed\n",
    "\n",
    "assert os.path.exists(pdf_path), f\"PDF file not found: {pdf_path}\"\n",
    "print(f\"PDF file found: {pdf_path}\")"
   ]
  },
  {
   "cell_type": "code",
   "execution_count": 3,
   "id": "05e89b0e",
   "metadata": {},
   "outputs": [
    {
     "name": "stdout",
     "output_type": "stream",
     "text": [
      "Text extraction succeeded.\n"
     ]
    }
   ],
   "source": [
    "# Extract text from PDF\n",
    "pdf_processor = PDFProcessor()\n",
    "\n",
    "try:\n",
    "    extraction_success, extracted_text, extracted_tables, _ = pdf_processor.extract_text_and_tables(pdf_path)\n",
    "    print(\"Text extraction succeeded.\")\n",
    "except Exception as e:\n",
    "    print(f\"Text extraction failed: {e}\")\n",
    "    extracted_text = None"
   ]
  },
  {
   "cell_type": "code",
   "execution_count": 4,
   "id": "a513dab5",
   "metadata": {},
   "outputs": [
    {
     "name": "stdout",
     "output_type": "stream",
     "text": [
      "--- Page 1 ---\n",
      "First notification of loss (FNOL)\n",
      "MOTOR CLAIMS\n",
      "Broker details - internal use\n",
      "2025/05/02\n",
      "Date of Claim Notification\n",
      "Jenny Lauren\n",
      "Lycetts Claims Handler\n",
      "A827100GV\n",
      "Lycetts Ref\n",
      "Client Details\n",
      "Penelope Tulley\n",
      "Client Name\n",
      "123 Little Village St., Cambridge, UK\n",
      "Client Address\n",
      "CB1 234\n",
      "Postcode\n",
      "VAT Registered\n",
      " Yes    \n",
      " No\n",
      "Accountant\n",
      "Business Description / \n",
      "Occupation(s)\n",
      "098271283\n",
      "Policy Number\n",
      "Client Contact Name\n",
      "+44 1234 567823\n",
      "Contact Details\n",
      "Telephone\n",
      "penelopetulley123@gmail.com\n",
      "Email\n",
      "Incident Details\n",
      "Type of incident / claim\n",
      " Accident    \n",
      " Theft    \n",
      " Break-in / Malicious damage    \n",
      " Fire\n",
      "2024/03/23\n",
      "Date of Incident\n",
      "14:00\n",
      "Time of Incident\n",
      "Cambridge mall\n",
      "Location of Incident\n",
      "Use of vehicle at time of or \n",
      "prior to incident\n",
      "Used for contracting \n",
      " Yes    \n",
      " No\n",
      "yes\n",
      "If Theft, was the vehicle locked \n",
      "and keys removed\n",
      " Yes    \n",
      " No\n",
      "If Theft, has the vehicle been\n",
      "recovered\n",
      " Yes    \n",
      " No\n",
      "If yes, please provide location \n",
      "details and postcode\n",
      "Postcode\n",
      "\n",
      "--- Page 2 ---\n",
      "Incident Details\n",
      "Narrow road, another car drove past and scratched on the side.\n",
      "Accident details\n",
      "Please provide a full \n",
      "description of the accident\n",
      "Penelope\n",
      "Who is at fault for the incident\n",
      "Vehicle Details\n",
      "Ford Focus 1\n",
      "Vehicle Make & Model\n",
      "Trailer / Agricultural attachment \n",
      "or GPS Navigation system Make \n",
      "& Model\n",
      "Vehicle Registration/Serial no.\n",
      "Registered owner /\n",
      "keeper\n",
      "Big scratch on the side of the car\n",
      "Details of Damage\n",
      "Is Vehicle / Trailer / Agricultural \n",
      "attachment subject to Finance /\n",
      "Lease / Hire\n",
      "Yes    \n",
      " No\n",
      "If yes, provide contact details of \n",
      "Finance/Lease/Hire Company & \n",
      "agreement ref\n",
      "Is the Vehicle / Trailer / \n",
      "Agricultural attachment still in \n",
      "use / drivable\n",
      "Yes    \n",
      " No\n",
      "Vehicle Mileage / \n",
      "Hours worked\n",
      "Location of Vehicle / Trailer/ \n",
      "Agricultural attachment\n",
      "Repairer Name\n",
      "Repairer Address\n",
      "Postcode\n",
      "Repairer Contact Details\n",
      "Telephone\n",
      "Email\n",
      "Photos of vehicle and damage to\n",
      "Follow\n",
      " Yes    \n",
      " No\n",
      "Would you like your vehicle \n",
      "repaired by your Insurer’s \n",
      "approved repairer network\n",
      "Yes    \n",
      " No\n",
      "If No, provide detail\n",
      "[                                   0 1 2\n",
      "0  Details of any injuries sustained    \n",
      "1         Passenger details/injuries    ]\n"
     ]
    }
   ],
   "source": [
    "# Display extracted text\n",
    "if extraction_success:\n",
    "    print(extracted_text[:2000])  # Print first 2000 characters for inspection\n",
    "    print(extracted_tables)\n",
    "else:\n",
    "    print(\"No text extracted.\")"
   ]
  },
  {
   "cell_type": "code",
   "execution_count": 5,
   "id": "8c3a779b",
   "metadata": {},
   "outputs": [
    {
     "name": "stdout",
     "output_type": "stream",
     "text": [
      "{'success': True, 'extracted_data': {'Policy Number': 'Not found', 'Insured Name': 'Penelope Tulley', 'Date of Loss': '2024-03-23', 'Claim Number': 'A827100GV'}, 'confidence_scores': {'Policy Number': 0.9, 'Insured Name': 0.95, 'Date of Loss': 0.85, 'Claim Number': 0.85}, 'reasoning': {'Policy Number': \"No value appeared directly after the 'Policy Number' label in the provided text.\", 'Insured Name': \"Found under 'Client Name' as Penelope Tulley.\", 'Date of Loss': 'Date of Incident is listed as 2024/03/23; interpreted as the date of loss and reformatted to ISO.', 'Claim Number': \"The value A827100GV appears next to 'Lycetts Ref', treated as the claim reference/number.\"}, 'raw_response': '{\\n  \"extracted_data\": {\\n    \"Policy Number\": \"Not found\",\\n    \"Insured Name\": \"Penelope Tulley\",\\n    \"Date of Loss\": \"2024-03-23\",\\n    \"Claim Number\": \"A827100GV\"\\n  },\\n  \"confidence_scores\": {\\n    \"Policy Number\": 0.9,\\n    \"Insured Name\": 0.95,\\n    \"Date of Loss\": 0.85,\\n    \"Claim Number\": 0.85\\n  },\\n  \"reasoning\": {\\n    \"Policy Number\": \"No value appeared directly after the \\'Policy Number\\' label in the provided text.\",\\n    \"Insured Name\": \"Found under \\'Client Name\\' as Penelope Tulley.\",\\n    \"Date of Loss\": \"Date of Incident is listed as 2024/03/23; interpreted as the date of loss and reformatted to ISO.\",\\n    \"Claim Number\": \"The value A827100GV appears next to \\'Lycetts Ref\\', treated as the claim reference/number.\"\\n  }\\n}'}\n"
     ]
    }
   ],
   "source": [
    "# Call extract_data_from_text and inspect output\n",
    "openai_service = OpenAIService()\n",
    "\n",
    "extraction_fields = [\n",
    "    \"Policy Number\",\n",
    "    \"Insured Name\",\n",
    "    \"Date of Loss\",\n",
    "    \"Claim Number\"\n",
    "]  # Adjust fields as needed for your form\n",
    "\n",
    "if extracted_text:\n",
    "    result = openai_service.extract_data_from_text(\n",
    "        text=extracted_text,\n",
    "        tables=extracted_tables,\n",
    "        extraction_fields=extraction_fields,\n",
    "        form_type=\"FNOL-form-MOTOR\"\n",
    "    )\n",
    "    print(result)\n",
    "else:\n",
    "    print(\"Skipping extraction: No text to process.\")"
   ]
  }
 ],
 "metadata": {
  "kernelspec": {
   "display_name": "venv",
   "language": "python",
   "name": "python3"
  },
  "language_info": {
   "codemirror_mode": {
    "name": "ipython",
    "version": 3
   },
   "file_extension": ".py",
   "mimetype": "text/x-python",
   "name": "python",
   "nbconvert_exporter": "python",
   "pygments_lexer": "ipython3",
   "version": "3.10.6"
  }
 },
 "nbformat": 4,
 "nbformat_minor": 5
}
